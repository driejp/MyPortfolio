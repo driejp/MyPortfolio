{
  "nbformat": 4,
  "nbformat_minor": 0,
  "metadata": {
    "colab": {
      "provenance": []
    },
    "kernelspec": {
      "name": "python3",
      "display_name": "Python 3"
    },
    "language_info": {
      "name": "python"
    }
  },
  "cells": [
    {
      "cell_type": "markdown",
      "source": [
        "1.0 Set up Google Colaboratory notebook to use SQLite relational database"
      ],
      "metadata": {
        "id": "iZzlfgcUfgz1"
      }
    },
    {
      "cell_type": "code",
      "execution_count": null,
      "metadata": {
        "id": "WXRAStStUYZX"
      },
      "outputs": [],
      "source": [
        "# Import SQLite3 Module\n",
        "import sqlite3"
      ]
    },
    {
      "cell_type": "markdown",
      "source": [
        "2.0 Use the CREATE command (DDL) to create a Database (db) Object"
      ],
      "metadata": {
        "id": "Xia__vNBVUG1"
      }
    },
    {
      "cell_type": "code",
      "source": [
        "# Create a database connection object, dco\n",
        "# Using the connect() function to connect SQLite3\n",
        "# Simultaneously, ask it to create an empty database,\n",
        "# Name it \"READMISSIONSJEARTFAILURE\", if it doesn't exist already\n",
        "dco=sqlite3.connect('READMISSIONSHEARTFAILURE.db')"
      ],
      "metadata": {
        "id": "OKRGmsghVaWH"
      },
      "execution_count": null,
      "outputs": []
    },
    {
      "cell_type": "markdown",
      "source": [
        "Create a cursor object, co, to interface between the SQL database and the SQL query"
      ],
      "metadata": {
        "id": "lNEFaVoJV8BZ"
      }
    },
    {
      "cell_type": "code",
      "source": [
        "# For query execution, create a cursor object, co, using the cursor() function\n",
        "# This is to provide a connection between the SQLite database and SQL query\n",
        "co=dco.cursor()\n",
        "print('Cursor object, co, for query execution, has been created')"
      ],
      "metadata": {
        "colab": {
          "base_uri": "https://localhost:8080/"
        },
        "id": "yfKTz0qrV_l1",
        "outputId": "71755af0-c2c6-4935-99a1-f2c902be30f3"
      },
      "execution_count": null,
      "outputs": [
        {
          "output_type": "stream",
          "name": "stdout",
          "text": [
            "Cursor object, co, for query execution, has been created\n"
          ]
        }
      ]
    },
    {
      "cell_type": "code",
      "source": [
        "# Create an empty table to go in the new database using the CREATE command\n",
        "# To create a new table, it's good to practice to specify for each column\n",
        "# at least 3 items:\n",
        "# 1) The name of the column in PascalCase. Ex: ProviderID for 1st column\n",
        "# 2) The data type. Ex: VARCHAR(50) for 1st column.\n",
        "# 3) The null designation or blank or no blank. Ex: NULL blank for 1st column\n",
        "# As shown below, the table starts with 3 columns: ProviderID, RatesFromHF, NumberHFPatientsReadmitted\n",
        "# To do that, first, define a new function named, empty_table_creation()\n",
        "# Use 3 double-quotations (\"\") for multiple lines instead of using \\n for new lines\n",
        "def empty_table_creation():co.execute(\"\"\"CREATE TABLE IF NOT EXISTS HFReadmissions\n",
        "(ProviderID VARCHAR (50) PRIMARY KEY NOT NULL, RatesFromHF float NOT NULL,\n",
        "NumberHFPatientsReadmitted int NOT NULL);\"\"\")"
      ],
      "metadata": {
        "id": "_AYk7cm4X01v"
      },
      "execution_count": null,
      "outputs": []
    },
    {
      "cell_type": "code",
      "source": [
        "# Execute the empty_table_creation() function\n",
        "empty_table_creation()"
      ],
      "metadata": {
        "id": "o8sBvSUObFOr"
      },
      "execution_count": null,
      "outputs": []
    },
    {
      "cell_type": "markdown",
      "source": [
        "2.1. Use ALTER command (DDL) to change\n",
        "structure of the new table"
      ],
      "metadata": {
        "id": "4EzViL_vfPQ-"
      }
    },
    {
      "cell_type": "code",
      "source": [
        "# Add a new column, State, to the table, HFReadmissions\n",
        "# Then, display the tables to see the changes\n",
        "# But, first define the alteration function\n",
        "# To enable the addition of the new column, State\n",
        "def empty_table_alter():co.execute(\"\"\"ALTER TABLE HFReadmissions ADD State char (50) NOT NULL;\"\"\")"
      ],
      "metadata": {
        "id": "aaq1GI2HcAE1"
      },
      "execution_count": null,
      "outputs": []
    },
    {
      "cell_type": "code",
      "source": [
        "#Execute the empty_table_alter()function\n",
        "# Add new column, State, to the table, HFReadmissions\n",
        "empty_table_alter()"
      ],
      "metadata": {
        "id": "bY-MrR2thJWm"
      },
      "execution_count": null,
      "outputs": []
    },
    {
      "cell_type": "code",
      "source": [
        "# Now, the table has 4 columns: ProviderID, RatesfromHF, NumberHFPatientsReadmitted, State"
      ],
      "metadata": {
        "id": "fvdnPC3qjb0T"
      },
      "execution_count": null,
      "outputs": []
    },
    {
      "cell_type": "markdown",
      "source": [
        "3.0 Use the INSERT command (DML)\n",
        "to add values or data into the table"
      ],
      "metadata": {
        "id": "XwGParKuj05Z"
      }
    },
    {
      "cell_type": "code",
      "source": [
        "# Define a new function named, data_values_insertion() to allow you to insert or data into the new table\n",
        "# Values/Data are fictious\n",
        "# Use 3 double-quotations(\"\"\"\") for multiple lines instead of using \\n for new lines\n",
        "def data_values_insertion():\n",
        "    co.execute(\"\"\" INSERT INTO HFReadmissions\n",
        "    (ProviderID, RatesFromHF, NumberHFPatientsReadmitted, State)\n",
        "    VALUES\n",
        "    ('17894G', 24.6, 115, 'AL'),\n",
        "    ('56148H', 22.8, 51, 'WY'),\n",
        "    ('57436I', 16.9, 35, 'PR'),\n",
        "    ('10723J', 18.3, 298, 'KS'),\n",
        "    ('34502K', 14.6, 135, 'ID'),\n",
        "    ('59911L', 20.2, 455, 'LA'),\n",
        "    ('11995M', 17.0, 190, 'ME'),\n",
        "    ('99543N', 16.1, 100, 'MA'),\n",
        "    ('34502Q', 17.5, 315, 'FL'),\n",
        "    ('59911P', 19.7, 550, 'FL');\"\"\")\n"
      ],
      "metadata": {
        "id": "xkswBVvCb7hN"
      },
      "execution_count": null,
      "outputs": []
    },
    {
      "cell_type": "code",
      "source": [
        "# Run the data_values_insertion() function to insert data into the empty table, HFReadmissions\n",
        "data_values_insertion()"
      ],
      "metadata": {
        "id": "gvP-R3BScLSx"
      },
      "execution_count": null,
      "outputs": []
    },
    {
      "cell_type": "code",
      "source": [
        "# Use commit() to save the values/data entered\n",
        "dco.commit()"
      ],
      "metadata": {
        "id": "XnrdASkxonpZ"
      },
      "execution_count": null,
      "outputs": []
    },
    {
      "cell_type": "code",
      "source": [
        "# Use below codes to check to see data that have been entered\n",
        "# import pandas library\n",
        "import pandas as pd"
      ],
      "metadata": {
        "id": "tUnPW90IovgR"
      },
      "execution_count": null,
      "outputs": []
    },
    {
      "cell_type": "code",
      "source": [
        "# Use pd.read_sql_query to read the data/values you inserted in the table in data frame format\n",
        "# Create a new memory or variable, readmdata to put the data frame in\n",
        "readmdata = pd.read_sql_query(\"SELECT*FROM HFReadmissions;\",dco)"
      ],
      "metadata": {
        "id": "2rYXTsT4ovYL"
      },
      "execution_count": null,
      "outputs": []
    },
    {
      "cell_type": "code",
      "source": [
        "# Display the contents of the HFReadmissions table using the print() function\n",
        "print(readmdata)"
      ],
      "metadata": {
        "colab": {
          "base_uri": "https://localhost:8080/"
        },
        "id": "8OxRWIwuovMr",
        "outputId": "6973ef2d-cc5f-4002-d83b-d45e3372ee95"
      },
      "execution_count": null,
      "outputs": [
        {
          "output_type": "stream",
          "name": "stdout",
          "text": [
            "  ProviderID  RatesFromHF  NumberHFPatientsReadmitted State\n",
            "0     17894G         24.6                         115    AL\n",
            "1     56148H         22.8                          51    WY\n",
            "2     57436I         16.9                          35    PR\n",
            "3     10723J         18.3                         298    KS\n",
            "4     34502K         14.6                         135    ID\n",
            "5     59911L         20.2                         455    LA\n",
            "6     11995M         17.0                         190    ME\n",
            "7     99543N         16.1                         100    MA\n",
            "8     34502Q         17.5                         315    FL\n",
            "9     59911P         19.7                         550    FL\n"
          ]
        }
      ]
    },
    {
      "cell_type": "code",
      "source": [
        "# Display only the data for ProviderID, 34502K, Idaho(ID)\n",
        "idahodta = pd.read_sql_query(\"\"\"SELECT ProviderID, RatesFromHF, NumberHFPatientsReadmitted, State FROM HFReadmissions WHERE ProviderID='34502K';\"\"\",dco)\n",
        "print(idahodta)"
      ],
      "metadata": {
        "colab": {
          "base_uri": "https://localhost:8080/"
        },
        "id": "GX4KFDdBqiYp",
        "outputId": "a9e2dafe-a331-41d7-82dc-18de8d83609e"
      },
      "execution_count": null,
      "outputs": [
        {
          "output_type": "stream",
          "name": "stdout",
          "text": [
            "  ProviderID  RatesFromHF  NumberHFPatientsReadmitted State\n",
            "0     34502K         14.6                         135    ID\n"
          ]
        }
      ]
    },
    {
      "cell_type": "markdown",
      "source": [
        "3.1 Use the UPDATE command (DML) to\n",
        "change values or data in the table"
      ],
      "metadata": {
        "id": "Irzj-GNTsZ3J"
      }
    },
    {
      "cell_type": "code",
      "source": [
        "#Change State FL to TN\n",
        "# First, define the update function to change the State to TN, where FL have been entered\n",
        "def data_table_update(): co.execute(\"\"\"UPDATE HFReadmissions SET State='TN' WHERE State='FL';\"\"\")"
      ],
      "metadata": {
        "id": "CRPnDQE3qiKH"
      },
      "execution_count": null,
      "outputs": []
    },
    {
      "cell_type": "code",
      "source": [
        "#Execute the update function\n",
        "data_table_update()"
      ],
      "metadata": {
        "id": "YgsADdbItLjA"
      },
      "execution_count": null,
      "outputs": []
    },
    {
      "cell_type": "code",
      "source": [
        "# Use the commit() to save the values/data entered\n",
        "dco.commit()"
      ],
      "metadata": {
        "id": "JVvJz8_Eti5j"
      },
      "execution_count": null,
      "outputs": []
    },
    {
      "cell_type": "markdown",
      "source": [
        "4.0 Use the SELECT command (DQL) to\n",
        "fetch all data including changed ones"
      ],
      "metadata": {
        "id": "4rN9E8IOt2Oi"
      }
    },
    {
      "cell_type": "code",
      "source": [
        "# Use pd.read_sql_query to read records as you inserted in the table in data frame format\n",
        "# Create a new memory or variable, hospreadmdata to put the data frame in\n",
        "hospreadmdata = pd.read_sql_query(\"SELECT*FROM HFReadmissions;\",dco)"
      ],
      "metadata": {
        "id": "Sd1pkoIyt27n"
      },
      "execution_count": null,
      "outputs": []
    },
    {
      "cell_type": "code",
      "source": [
        "# Display the contents of the HFReadmissions including the updates\n",
        "print(hospreadmdata)"
      ],
      "metadata": {
        "colab": {
          "base_uri": "https://localhost:8080/"
        },
        "id": "xpQ2p4o8uYdp",
        "outputId": "1b40356a-10bb-464d-a45c-5347aebfac20"
      },
      "execution_count": null,
      "outputs": [
        {
          "output_type": "stream",
          "name": "stdout",
          "text": [
            "  ProviderID  RatesFromHF  NumberHFPatientsReadmitted State\n",
            "0     17894G         24.6                         115    AL\n",
            "1     56148H         22.8                          51    WY\n",
            "2     57436I         16.9                          35    PR\n",
            "3     10723J         18.3                         298    KS\n",
            "4     34502K         14.6                         135    ID\n",
            "5     59911L         20.2                         455    LA\n",
            "6     11995M         17.0                         190    ME\n",
            "7     99543N         16.1                         100    MA\n",
            "8     34502Q         17.5                         315    TN\n",
            "9     59911P         19.7                         550    TN\n"
          ]
        }
      ]
    },
    {
      "cell_type": "markdown",
      "source": [
        "5.0. Convert the dataframe into CSV file\n",
        "and download it"
      ],
      "metadata": {
        "id": "Asj7abGsujVv"
      }
    },
    {
      "cell_type": "code",
      "source": [
        "from google.colab import files"
      ],
      "metadata": {
        "id": "Q3TfEpTUukSs"
      },
      "execution_count": null,
      "outputs": []
    },
    {
      "cell_type": "code",
      "source": [
        "# Convert hospreadmdata frame into a CSV file\n",
        "hospreadmdata.to_csv('hospreadmdata.csv')"
      ],
      "metadata": {
        "id": "cqbqao25up56"
      },
      "execution_count": null,
      "outputs": []
    },
    {
      "cell_type": "code",
      "source": [
        "# Download hospreadmdata CSV file to your local file system or your downloads folder\n",
        "files.download('hospreadmdata.csv')"
      ],
      "metadata": {
        "colab": {
          "base_uri": "https://localhost:8080/",
          "height": 17
        },
        "id": "Bk_oLs32u0r1",
        "outputId": "5f828efb-eb47-45b3-9983-fb17b5f4693b"
      },
      "execution_count": null,
      "outputs": [
        {
          "output_type": "display_data",
          "data": {
            "text/plain": [
              "<IPython.core.display.Javascript object>"
            ],
            "application/javascript": [
              "\n",
              "    async function download(id, filename, size) {\n",
              "      if (!google.colab.kernel.accessAllowed) {\n",
              "        return;\n",
              "      }\n",
              "      const div = document.createElement('div');\n",
              "      const label = document.createElement('label');\n",
              "      label.textContent = `Downloading \"${filename}\": `;\n",
              "      div.appendChild(label);\n",
              "      const progress = document.createElement('progress');\n",
              "      progress.max = size;\n",
              "      div.appendChild(progress);\n",
              "      document.body.appendChild(div);\n",
              "\n",
              "      const buffers = [];\n",
              "      let downloaded = 0;\n",
              "\n",
              "      const channel = await google.colab.kernel.comms.open(id);\n",
              "      // Send a message to notify the kernel that we're ready.\n",
              "      channel.send({})\n",
              "\n",
              "      for await (const message of channel.messages) {\n",
              "        // Send a message to notify the kernel that we're ready.\n",
              "        channel.send({})\n",
              "        if (message.buffers) {\n",
              "          for (const buffer of message.buffers) {\n",
              "            buffers.push(buffer);\n",
              "            downloaded += buffer.byteLength;\n",
              "            progress.value = downloaded;\n",
              "          }\n",
              "        }\n",
              "      }\n",
              "      const blob = new Blob(buffers, {type: 'application/binary'});\n",
              "      const a = document.createElement('a');\n",
              "      a.href = window.URL.createObjectURL(blob);\n",
              "      a.download = filename;\n",
              "      div.appendChild(a);\n",
              "      a.click();\n",
              "      div.remove();\n",
              "    }\n",
              "  "
            ]
          },
          "metadata": {}
        },
        {
          "output_type": "display_data",
          "data": {
            "text/plain": [
              "<IPython.core.display.Javascript object>"
            ],
            "application/javascript": [
              "download(\"download_ce0eabf3-379d-4ae7-a25c-34861fe2f4a5\", \"hospreadmdata.csv\", 265)"
            ]
          },
          "metadata": {}
        }
      ]
    },
    {
      "cell_type": "code",
      "source": [],
      "metadata": {
        "id": "sUAtZlW_u1GG"
      },
      "execution_count": null,
      "outputs": []
    }
  ]
}